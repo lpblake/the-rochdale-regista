{
 "cells": [
  {
   "cell_type": "code",
   "execution_count": 14,
   "id": "3fd7cf2b",
   "metadata": {},
   "outputs": [],
   "source": [
    "###Importing Modules\n",
    "from statsbombpy import sb\n",
    "%matplotlib inline\n",
    "import json\n",
    "from pandas.io.json import json_normalize\n",
    "import numpy as np\n",
    "import seaborn as sns\n",
    "import pandas as pd\n",
    "import matplotlib.pyplot as plt\n",
    "from matplotlib.patches import Arc, Rectangle, ConnectionPatch\n",
    "from matplotlib.offsetbox import  OffsetImage\n",
    "import matplotlib.patches as mpatches\n",
    "from functools import reduce\n",
    "import plotly.graph_objects as px\n",
    "import plotly.express as px\n",
    "import matplotlib.patches as patches\n",
    "import plotly.figure_factory as ff\n",
    "import plotly.graph_objs as go\n",
    "import warnings\n",
    "from plotly.validators.scatter.marker import SymbolValidator\n",
    "import chart_studio.plotly as py\n",
    "import chart_studio.tools as tls\n",
    "import chart_studio\n",
    "import math\n",
    "from plotly.subplots import make_subplots"
   ]
  },
  {
   "cell_type": "code",
   "execution_count": 9,
   "id": "fab6fde9",
   "metadata": {},
   "outputs": [
    {
     "name": "stdout",
     "output_type": "stream",
     "text": [
      "credentials were not supplied. open data access only\n",
      "credentials were not supplied. open data access only\n",
      "credentials were not supplied. open data access only\n",
      "credentials were not supplied. open data access only\n",
      "credentials were not supplied. open data access only\n",
      "credentials were not supplied. open data access only\n",
      "credentials were not supplied. open data access only\n",
      "credentials were not supplied. open data access only\n"
     ]
    }
   ],
   "source": [
    "#get list of match ids for each england game in the tournament\n",
    "#sb.competitions()\n",
    "euro_matches = sb.matches(competition_id=53, season_id=106)\n",
    "#print(euro_matches)\n",
    "england_euro_matches_df = euro_matches[(euro_matches.home_team == \"England Women's\") | (euro_matches.away_team == \"England Women's\")]\n",
    "matchid_list = england_euro_matches_df[\"match_id\"].tolist()\n",
    "#print(matchid_list)\n",
    "\n",
    "#create empty dataframe with same structure as statsbomb events data\n",
    "events_df = sb.events(match_id=3749052)\n",
    "events_df = events_df[0:0] \n",
    "#print(events_df)\n",
    "#loop through all match ids for the tournament to gather event data for every game into one dataframe\n",
    "for i in matchid_list:\n",
    "    e_df = sb.events(match_id=i)\n",
    "    events_df = events_df.append(e_df)"
   ]
  },
  {
   "cell_type": "code",
   "execution_count": 90,
   "id": "87595e88",
   "metadata": {},
   "outputs": [],
   "source": [
    "def draw_pitch(ax):\n",
    "    # focus on only half of the pitch\n",
    "    #Pitch Outline & Centre Line\n",
    "    Pitch = Rectangle([0,0], width = 120, height = 80, color=\"#39FF14\", fill = False, lw=2)\n",
    "    #Left, Right Penalty Area and midline\n",
    "    LeftPenalty = Rectangle([0,22.3], width = 14.6, height = 35.3, color=\"#39FF14\", fill = False, lw=2)\n",
    "    RightPenalty = Rectangle([105.4,22.3], width = 14.6, height = 35.3, color=\"#39FF14\", fill = False, lw=2)\n",
    "    midline = ConnectionPatch([60,0], [60,80], \"data\", \"data\", color=\"#39FF14\", lw=2)\n",
    "\n",
    "    #Left, Right 6-yard Box\n",
    "    LeftSixYard = Rectangle([0,32], width = 4.9, height = 16, color=\"#39FF14\", fill = False, lw=2)\n",
    "    RightSixYard = Rectangle([115.1,32], width = 4.9, height = 16, color=\"#39FF14\", fill = False, lw=2)\n",
    "\n",
    "\n",
    "    #Prepare Circles\n",
    "    centreCircle = plt.Circle((60,40),8.1,color=\"#39FF14\", fill = False, lw=2)\n",
    "    centreSpot = plt.Circle((60,40),0.71,color=\"#39FF14\", lw=2)\n",
    "    #Penalty spots and Arcs around penalty boxes\n",
    "    leftPenSpot = plt.Circle((9.7,40),0.71,color=\"#39FF14\", lw=2)\n",
    "    rightPenSpot = plt.Circle((110.3,40),0.71,color=\"#39FF14\", lw=2)\n",
    "    leftArc = Arc((9.7,40),height=16.2,width=16.2,angle=0,theta1=310,theta2=50,color=\"#39FF14\", lw=2)\n",
    "    rightArc = Arc((110.3,40),height=16.2,width=16.2,angle=0,theta1=130,theta2=230,color=\"#39FF14\", lw=2)\n",
    "    \n",
    "    element = [Pitch, LeftPenalty, RightPenalty, midline, LeftSixYard, RightSixYard, centreCircle, \n",
    "               centreSpot, rightPenSpot, leftPenSpot, leftArc, rightArc]\n",
    "    for i in element:\n",
    "        ax.add_patch(i)"
   ]
  },
  {
   "cell_type": "code",
   "execution_count": 10,
   "id": "67e8aa50",
   "metadata": {},
   "outputs": [],
   "source": [
    "def get_angle_counts(pass_df):\n",
    "    #convert radians to degrees\n",
    "    pass_df['pass_angle_degrees'] = pass_df['pass_angle'].astype(float).apply(math.degrees)\n",
    "    pass_df['pass_angle_degrees'] %= 360 \n",
    "    pass_df.sort_values(by='pass_angle_degrees', inplace=True, ascending=True)\n",
    "    #12 equally ranged bins\n",
    "    bins = [-np.inf, 30, 60, 90, 120, 150, 180, 210, 240, 270, 300, 330, 360]\n",
    "    labels=[15, 45, 75, 105, 135, 165, 195, 225, 255, 285, 315, 345]\n",
    "    pass_df[\"angle_bucket\"] = pd.cut(pass_df['pass_angle_degrees'], bins=bins, labels=labels)\n",
    "    pass_df['angle_bucket'] = pass_df['angle_bucket'].astype(\"string\")\n",
    "    angles_df = pass_df[['angle_bucket']]\n",
    "    #print(angles_df)\n",
    "    angles_df = angles_df.value_counts().to_frame('Count').reset_index()\n",
    "    #print(angles_df)\n",
    "    angles_df['angle_bucket'] = angles_df['angle_bucket'].astype(int)\n",
    "\n",
    "    #add rows if there were zero passes at that angle\n",
    "    if 15 not in angles_df['angle_bucket'].values:\n",
    "        row_15 = {'angle_bucket':15, 'Count':0}\n",
    "        angles_df = angles_df.append(row_15, ignore_index=True)\n",
    "    if 45 not in angles_df['angle_bucket'].values:\n",
    "        row_45 = {'angle_bucket':45, 'Count':0}\n",
    "        angles_df = angles_df.append(row_45, ignore_index=True)\n",
    "    if 75 not in angles_df['angle_bucket'].values:\n",
    "        row_75 = {'angle_bucket':75, 'Count':0}\n",
    "        angles_df = angles_df.append(row_75, ignore_index=True)\n",
    "    if 105 not in angles_df['angle_bucket'].values:\n",
    "        row_105 = {'angle_bucket':105, 'Count':0}\n",
    "        angles_df = angles_df.append(row_105, ignore_index=True)\n",
    "    if 135 not in angles_df['angle_bucket'].values:\n",
    "        row_135 = {'angle_bucket':135, 'Count':0}\n",
    "        angles_df = angles_df.append(row_135, ignore_index=True)\n",
    "    if 165 not in angles_df['angle_bucket'].values:\n",
    "        row_165 = {'angle_bucket':165, 'Count':0}\n",
    "        angles_df = angles_df.append(row_165, ignore_index=True)\n",
    "    if 195 not in angles_df['angle_bucket'].values:\n",
    "        row_195 = {'angle_bucket':195, 'Count':0}\n",
    "        angles_df = angles_df.append(row_195, ignore_index=True)\n",
    "    if 225 not in angles_df['angle_bucket'].values:\n",
    "        row_225 = {'angle_bucket':225, 'Count':0}\n",
    "        angles_df = angles_df.append(row_225, ignore_index=True)\n",
    "    if 255 not in angles_df['angle_bucket'].values:\n",
    "        row_255 = {'angle_bucket':255, 'Count':0}\n",
    "        angles_df = angles_df.append(row_255, ignore_index=True)\n",
    "    if 285 not in angles_df['angle_bucket'].values:\n",
    "        row_285 = {'angle_bucket':285, 'Count':0}\n",
    "        angles_df = angles_df.append(row_285, ignore_index=True)\n",
    "    if 315 not in angles_df['angle_bucket'].values:\n",
    "        row_315 = {'angle_bucket':315, 'Count':0}\n",
    "        angles_df = angles_df.append(row_315, ignore_index=True)\n",
    "    if 345 not in angles_df['angle_bucket'].values:\n",
    "        row_345 = {'angle_bucket':345, 'Count':0}\n",
    "        angles_df = angles_df.append(row_345, ignore_index=True)\n",
    "    \n",
    "    #return dataframe with count of buckets\n",
    "    angles_df.sort_values(by='angle_bucket', inplace=True, ascending=True)\n",
    "    return angles_df"
   ]
  },
  {
   "cell_type": "code",
   "execution_count": 50,
   "id": "d07c2b25",
   "metadata": {},
   "outputs": [],
   "source": [
    "kw_passes_df = events_df[(events_df.type == \"Pass\") & (events_df.player == \"Keira Walsh\")]\n",
    "kw_passes_df = kw_passes_df[kw_passes_df[\"pass_outcome\"].isnull()]\n",
    "kw_passes_df['x'], kw_passes_df['y'] = zip(*list(kw_passes_df['location'].values))\n",
    "kw_passes_df['x_end'], kw_passes_df['y_end'] = zip(*list(kw_passes_df['pass_end_location'].values))"
   ]
  },
  {
   "cell_type": "code",
   "execution_count": 16,
   "id": "d482ad2a",
   "metadata": {},
   "outputs": [
    {
     "data": {
      "application/vnd.plotly.v1+json": {
       "config": {
        "plotlyServerURL": "https://plotly.com"
       },
       "data": [
        {
         "hovertext": [
          "0-30",
          "30-60",
          "60-90",
          "90-120",
          "120-150",
          "150-180",
          "180-210",
          "210-240",
          "240-270",
          "270-300",
          "300-330",
          "330-360"
         ],
         "marker": {
          "color": [
           "#0C418C",
           "#0C418C",
           "#0C418C",
           "#F0D339",
           "#F0D339",
           "#F0D339",
           "#56A18F",
           "#56A18F",
           "#56A18F",
           "#DC3912",
           "#DC3912",
           "#DC3912"
          ]
         },
         "r": [
          21,
          41,
          32,
          27,
          20,
          23,
          23,
          21,
          30,
          27,
          34,
          17
         ],
         "theta": [
          15,
          45,
          75,
          105,
          135,
          165,
          195,
          225,
          255,
          285,
          315,
          345
         ],
         "type": "barpolar",
         "width": 30
        }
       ],
       "layout": {
        "annotations": [
         {
          "align": "left",
          "font": {
           "color": "grey",
           "size": 12
          },
          "showarrow": false,
          "text": "Data Source: <a href='https://statsbomb.com/what-we-do/hub/free-data/'>Statsbomb Open Data</a>",
          "x": 0,
          "xanchor": "left",
          "xref": "paper",
          "xshift": -1,
          "y": -0.15,
          "yanchor": "bottom",
          "yref": "paper",
          "yshift": -5
         },
         {
          "align": "left",
          "font": {
           "color": "grey",
           "size": 12
          },
          "showarrow": false,
          "text": "Created by <a href='https://medium.com/@stuckintherondo'>@stuckintherondo</a>",
          "x": 0,
          "xanchor": "left",
          "xref": "paper",
          "xshift": -1,
          "y": -0.1,
          "yanchor": "bottom",
          "yref": "paper",
          "yshift": -5
         }
        ],
        "font": {
         "size": 18
        },
        "polar": {
         "angularaxis": {
          "direction": "clockwise",
          "tickfont": {
           "size": 12
          }
         },
         "radialaxis": {
          "tickfont": {
           "size": 12
          }
         }
        },
        "showlegend": false,
        "template": {
         "data": {
          "bar": [
           {
            "error_x": {
             "color": "#2a3f5f"
            },
            "error_y": {
             "color": "#2a3f5f"
            },
            "marker": {
             "line": {
              "color": "#E5ECF6",
              "width": 0.5
             },
             "pattern": {
              "fillmode": "overlay",
              "size": 10,
              "solidity": 0.2
             }
            },
            "type": "bar"
           }
          ],
          "barpolar": [
           {
            "marker": {
             "line": {
              "color": "#E5ECF6",
              "width": 0.5
             },
             "pattern": {
              "fillmode": "overlay",
              "size": 10,
              "solidity": 0.2
             }
            },
            "type": "barpolar"
           }
          ],
          "carpet": [
           {
            "aaxis": {
             "endlinecolor": "#2a3f5f",
             "gridcolor": "white",
             "linecolor": "white",
             "minorgridcolor": "white",
             "startlinecolor": "#2a3f5f"
            },
            "baxis": {
             "endlinecolor": "#2a3f5f",
             "gridcolor": "white",
             "linecolor": "white",
             "minorgridcolor": "white",
             "startlinecolor": "#2a3f5f"
            },
            "type": "carpet"
           }
          ],
          "choropleth": [
           {
            "colorbar": {
             "outlinewidth": 0,
             "ticks": ""
            },
            "type": "choropleth"
           }
          ],
          "contour": [
           {
            "colorbar": {
             "outlinewidth": 0,
             "ticks": ""
            },
            "colorscale": [
             [
              0,
              "#0d0887"
             ],
             [
              0.1111111111111111,
              "#46039f"
             ],
             [
              0.2222222222222222,
              "#7201a8"
             ],
             [
              0.3333333333333333,
              "#9c179e"
             ],
             [
              0.4444444444444444,
              "#bd3786"
             ],
             [
              0.5555555555555556,
              "#d8576b"
             ],
             [
              0.6666666666666666,
              "#ed7953"
             ],
             [
              0.7777777777777778,
              "#fb9f3a"
             ],
             [
              0.8888888888888888,
              "#fdca26"
             ],
             [
              1,
              "#f0f921"
             ]
            ],
            "type": "contour"
           }
          ],
          "contourcarpet": [
           {
            "colorbar": {
             "outlinewidth": 0,
             "ticks": ""
            },
            "type": "contourcarpet"
           }
          ],
          "heatmap": [
           {
            "colorbar": {
             "outlinewidth": 0,
             "ticks": ""
            },
            "colorscale": [
             [
              0,
              "#0d0887"
             ],
             [
              0.1111111111111111,
              "#46039f"
             ],
             [
              0.2222222222222222,
              "#7201a8"
             ],
             [
              0.3333333333333333,
              "#9c179e"
             ],
             [
              0.4444444444444444,
              "#bd3786"
             ],
             [
              0.5555555555555556,
              "#d8576b"
             ],
             [
              0.6666666666666666,
              "#ed7953"
             ],
             [
              0.7777777777777778,
              "#fb9f3a"
             ],
             [
              0.8888888888888888,
              "#fdca26"
             ],
             [
              1,
              "#f0f921"
             ]
            ],
            "type": "heatmap"
           }
          ],
          "heatmapgl": [
           {
            "colorbar": {
             "outlinewidth": 0,
             "ticks": ""
            },
            "colorscale": [
             [
              0,
              "#0d0887"
             ],
             [
              0.1111111111111111,
              "#46039f"
             ],
             [
              0.2222222222222222,
              "#7201a8"
             ],
             [
              0.3333333333333333,
              "#9c179e"
             ],
             [
              0.4444444444444444,
              "#bd3786"
             ],
             [
              0.5555555555555556,
              "#d8576b"
             ],
             [
              0.6666666666666666,
              "#ed7953"
             ],
             [
              0.7777777777777778,
              "#fb9f3a"
             ],
             [
              0.8888888888888888,
              "#fdca26"
             ],
             [
              1,
              "#f0f921"
             ]
            ],
            "type": "heatmapgl"
           }
          ],
          "histogram": [
           {
            "marker": {
             "pattern": {
              "fillmode": "overlay",
              "size": 10,
              "solidity": 0.2
             }
            },
            "type": "histogram"
           }
          ],
          "histogram2d": [
           {
            "colorbar": {
             "outlinewidth": 0,
             "ticks": ""
            },
            "colorscale": [
             [
              0,
              "#0d0887"
             ],
             [
              0.1111111111111111,
              "#46039f"
             ],
             [
              0.2222222222222222,
              "#7201a8"
             ],
             [
              0.3333333333333333,
              "#9c179e"
             ],
             [
              0.4444444444444444,
              "#bd3786"
             ],
             [
              0.5555555555555556,
              "#d8576b"
             ],
             [
              0.6666666666666666,
              "#ed7953"
             ],
             [
              0.7777777777777778,
              "#fb9f3a"
             ],
             [
              0.8888888888888888,
              "#fdca26"
             ],
             [
              1,
              "#f0f921"
             ]
            ],
            "type": "histogram2d"
           }
          ],
          "histogram2dcontour": [
           {
            "colorbar": {
             "outlinewidth": 0,
             "ticks": ""
            },
            "colorscale": [
             [
              0,
              "#0d0887"
             ],
             [
              0.1111111111111111,
              "#46039f"
             ],
             [
              0.2222222222222222,
              "#7201a8"
             ],
             [
              0.3333333333333333,
              "#9c179e"
             ],
             [
              0.4444444444444444,
              "#bd3786"
             ],
             [
              0.5555555555555556,
              "#d8576b"
             ],
             [
              0.6666666666666666,
              "#ed7953"
             ],
             [
              0.7777777777777778,
              "#fb9f3a"
             ],
             [
              0.8888888888888888,
              "#fdca26"
             ],
             [
              1,
              "#f0f921"
             ]
            ],
            "type": "histogram2dcontour"
           }
          ],
          "mesh3d": [
           {
            "colorbar": {
             "outlinewidth": 0,
             "ticks": ""
            },
            "type": "mesh3d"
           }
          ],
          "parcoords": [
           {
            "line": {
             "colorbar": {
              "outlinewidth": 0,
              "ticks": ""
             }
            },
            "type": "parcoords"
           }
          ],
          "pie": [
           {
            "automargin": true,
            "type": "pie"
           }
          ],
          "scatter": [
           {
            "marker": {
             "colorbar": {
              "outlinewidth": 0,
              "ticks": ""
             }
            },
            "type": "scatter"
           }
          ],
          "scatter3d": [
           {
            "line": {
             "colorbar": {
              "outlinewidth": 0,
              "ticks": ""
             }
            },
            "marker": {
             "colorbar": {
              "outlinewidth": 0,
              "ticks": ""
             }
            },
            "type": "scatter3d"
           }
          ],
          "scattercarpet": [
           {
            "marker": {
             "colorbar": {
              "outlinewidth": 0,
              "ticks": ""
             }
            },
            "type": "scattercarpet"
           }
          ],
          "scattergeo": [
           {
            "marker": {
             "colorbar": {
              "outlinewidth": 0,
              "ticks": ""
             }
            },
            "type": "scattergeo"
           }
          ],
          "scattergl": [
           {
            "marker": {
             "colorbar": {
              "outlinewidth": 0,
              "ticks": ""
             }
            },
            "type": "scattergl"
           }
          ],
          "scattermapbox": [
           {
            "marker": {
             "colorbar": {
              "outlinewidth": 0,
              "ticks": ""
             }
            },
            "type": "scattermapbox"
           }
          ],
          "scatterpolar": [
           {
            "marker": {
             "colorbar": {
              "outlinewidth": 0,
              "ticks": ""
             }
            },
            "type": "scatterpolar"
           }
          ],
          "scatterpolargl": [
           {
            "marker": {
             "colorbar": {
              "outlinewidth": 0,
              "ticks": ""
             }
            },
            "type": "scatterpolargl"
           }
          ],
          "scatterternary": [
           {
            "marker": {
             "colorbar": {
              "outlinewidth": 0,
              "ticks": ""
             }
            },
            "type": "scatterternary"
           }
          ],
          "surface": [
           {
            "colorbar": {
             "outlinewidth": 0,
             "ticks": ""
            },
            "colorscale": [
             [
              0,
              "#0d0887"
             ],
             [
              0.1111111111111111,
              "#46039f"
             ],
             [
              0.2222222222222222,
              "#7201a8"
             ],
             [
              0.3333333333333333,
              "#9c179e"
             ],
             [
              0.4444444444444444,
              "#bd3786"
             ],
             [
              0.5555555555555556,
              "#d8576b"
             ],
             [
              0.6666666666666666,
              "#ed7953"
             ],
             [
              0.7777777777777778,
              "#fb9f3a"
             ],
             [
              0.8888888888888888,
              "#fdca26"
             ],
             [
              1,
              "#f0f921"
             ]
            ],
            "type": "surface"
           }
          ],
          "table": [
           {
            "cells": {
             "fill": {
              "color": "#EBF0F8"
             },
             "line": {
              "color": "white"
             }
            },
            "header": {
             "fill": {
              "color": "#C8D4E3"
             },
             "line": {
              "color": "white"
             }
            },
            "type": "table"
           }
          ]
         },
         "layout": {
          "annotationdefaults": {
           "arrowcolor": "#2a3f5f",
           "arrowhead": 0,
           "arrowwidth": 1
          },
          "autotypenumbers": "strict",
          "coloraxis": {
           "colorbar": {
            "outlinewidth": 0,
            "ticks": ""
           }
          },
          "colorscale": {
           "diverging": [
            [
             0,
             "#8e0152"
            ],
            [
             0.1,
             "#c51b7d"
            ],
            [
             0.2,
             "#de77ae"
            ],
            [
             0.3,
             "#f1b6da"
            ],
            [
             0.4,
             "#fde0ef"
            ],
            [
             0.5,
             "#f7f7f7"
            ],
            [
             0.6,
             "#e6f5d0"
            ],
            [
             0.7,
             "#b8e186"
            ],
            [
             0.8,
             "#7fbc41"
            ],
            [
             0.9,
             "#4d9221"
            ],
            [
             1,
             "#276419"
            ]
           ],
           "sequential": [
            [
             0,
             "#0d0887"
            ],
            [
             0.1111111111111111,
             "#46039f"
            ],
            [
             0.2222222222222222,
             "#7201a8"
            ],
            [
             0.3333333333333333,
             "#9c179e"
            ],
            [
             0.4444444444444444,
             "#bd3786"
            ],
            [
             0.5555555555555556,
             "#d8576b"
            ],
            [
             0.6666666666666666,
             "#ed7953"
            ],
            [
             0.7777777777777778,
             "#fb9f3a"
            ],
            [
             0.8888888888888888,
             "#fdca26"
            ],
            [
             1,
             "#f0f921"
            ]
           ],
           "sequentialminus": [
            [
             0,
             "#0d0887"
            ],
            [
             0.1111111111111111,
             "#46039f"
            ],
            [
             0.2222222222222222,
             "#7201a8"
            ],
            [
             0.3333333333333333,
             "#9c179e"
            ],
            [
             0.4444444444444444,
             "#bd3786"
            ],
            [
             0.5555555555555556,
             "#d8576b"
            ],
            [
             0.6666666666666666,
             "#ed7953"
            ],
            [
             0.7777777777777778,
             "#fb9f3a"
            ],
            [
             0.8888888888888888,
             "#fdca26"
            ],
            [
             1,
             "#f0f921"
            ]
           ]
          },
          "colorway": [
           "#636efa",
           "#EF553B",
           "#00cc96",
           "#ab63fa",
           "#FFA15A",
           "#19d3f3",
           "#FF6692",
           "#B6E880",
           "#FF97FF",
           "#FECB52"
          ],
          "font": {
           "color": "#2a3f5f"
          },
          "geo": {
           "bgcolor": "white",
           "lakecolor": "white",
           "landcolor": "#E5ECF6",
           "showlakes": true,
           "showland": true,
           "subunitcolor": "white"
          },
          "hoverlabel": {
           "align": "left"
          },
          "hovermode": "closest",
          "mapbox": {
           "style": "light"
          },
          "paper_bgcolor": "white",
          "plot_bgcolor": "#E5ECF6",
          "polar": {
           "angularaxis": {
            "gridcolor": "white",
            "linecolor": "white",
            "ticks": ""
           },
           "bgcolor": "#E5ECF6",
           "radialaxis": {
            "gridcolor": "white",
            "linecolor": "white",
            "ticks": ""
           }
          },
          "scene": {
           "xaxis": {
            "backgroundcolor": "#E5ECF6",
            "gridcolor": "white",
            "gridwidth": 2,
            "linecolor": "white",
            "showbackground": true,
            "ticks": "",
            "zerolinecolor": "white"
           },
           "yaxis": {
            "backgroundcolor": "#E5ECF6",
            "gridcolor": "white",
            "gridwidth": 2,
            "linecolor": "white",
            "showbackground": true,
            "ticks": "",
            "zerolinecolor": "white"
           },
           "zaxis": {
            "backgroundcolor": "#E5ECF6",
            "gridcolor": "white",
            "gridwidth": 2,
            "linecolor": "white",
            "showbackground": true,
            "ticks": "",
            "zerolinecolor": "white"
           }
          },
          "shapedefaults": {
           "line": {
            "color": "#2a3f5f"
           }
          },
          "ternary": {
           "aaxis": {
            "gridcolor": "white",
            "linecolor": "white",
            "ticks": ""
           },
           "baxis": {
            "gridcolor": "white",
            "linecolor": "white",
            "ticks": ""
           },
           "bgcolor": "#E5ECF6",
           "caxis": {
            "gridcolor": "white",
            "linecolor": "white",
            "ticks": ""
           }
          },
          "title": {
           "x": 0.05
          },
          "xaxis": {
           "automargin": true,
           "gridcolor": "white",
           "linecolor": "white",
           "ticks": "",
           "title": {
            "standoff": 15
           },
           "zerolinecolor": "white",
           "zerolinewidth": 2
          },
          "yaxis": {
           "automargin": true,
           "gridcolor": "white",
           "linecolor": "white",
           "ticks": "",
           "title": {
            "standoff": 15
           },
           "zerolinecolor": "white",
           "zerolinewidth": 2
          }
         }
        },
        "title": {
         "text": "<b>Keira Walsh Euro 2022: Pass Direction<b>"
        }
       }
      },
      "text/html": [
       "<div>                            <div id=\"09ca7f22-3b08-4e65-999c-2eccae73c64a\" class=\"plotly-graph-div\" style=\"height:525px; width:100%;\"></div>            <script type=\"text/javascript\">                require([\"plotly\"], function(Plotly) {                    window.PLOTLYENV=window.PLOTLYENV || {};                                    if (document.getElementById(\"09ca7f22-3b08-4e65-999c-2eccae73c64a\")) {                    Plotly.newPlot(                        \"09ca7f22-3b08-4e65-999c-2eccae73c64a\",                        [{\"hovertext\":[\"0-30\",\"30-60\",\"60-90\",\"90-120\",\"120-150\",\"150-180\",\"180-210\",\"210-240\",\"240-270\",\"270-300\",\"300-330\",\"330-360\"],\"marker\":{\"color\":[\"#0C418C\",\"#0C418C\",\"#0C418C\",\"#F0D339\",\"#F0D339\",\"#F0D339\",\"#56A18F\",\"#56A18F\",\"#56A18F\",\"#DC3912\",\"#DC3912\",\"#DC3912\"]},\"r\":[21,41,32,27,20,23,23,21,30,27,34,17],\"theta\":[15,45,75,105,135,165,195,225,255,285,315,345],\"width\":30,\"type\":\"barpolar\"}],                        {\"template\":{\"data\":{\"bar\":[{\"error_x\":{\"color\":\"#2a3f5f\"},\"error_y\":{\"color\":\"#2a3f5f\"},\"marker\":{\"line\":{\"color\":\"#E5ECF6\",\"width\":0.5},\"pattern\":{\"fillmode\":\"overlay\",\"size\":10,\"solidity\":0.2}},\"type\":\"bar\"}],\"barpolar\":[{\"marker\":{\"line\":{\"color\":\"#E5ECF6\",\"width\":0.5},\"pattern\":{\"fillmode\":\"overlay\",\"size\":10,\"solidity\":0.2}},\"type\":\"barpolar\"}],\"carpet\":[{\"aaxis\":{\"endlinecolor\":\"#2a3f5f\",\"gridcolor\":\"white\",\"linecolor\":\"white\",\"minorgridcolor\":\"white\",\"startlinecolor\":\"#2a3f5f\"},\"baxis\":{\"endlinecolor\":\"#2a3f5f\",\"gridcolor\":\"white\",\"linecolor\":\"white\",\"minorgridcolor\":\"white\",\"startlinecolor\":\"#2a3f5f\"},\"type\":\"carpet\"}],\"choropleth\":[{\"colorbar\":{\"outlinewidth\":0,\"ticks\":\"\"},\"type\":\"choropleth\"}],\"contour\":[{\"colorbar\":{\"outlinewidth\":0,\"ticks\":\"\"},\"colorscale\":[[0.0,\"#0d0887\"],[0.1111111111111111,\"#46039f\"],[0.2222222222222222,\"#7201a8\"],[0.3333333333333333,\"#9c179e\"],[0.4444444444444444,\"#bd3786\"],[0.5555555555555556,\"#d8576b\"],[0.6666666666666666,\"#ed7953\"],[0.7777777777777778,\"#fb9f3a\"],[0.8888888888888888,\"#fdca26\"],[1.0,\"#f0f921\"]],\"type\":\"contour\"}],\"contourcarpet\":[{\"colorbar\":{\"outlinewidth\":0,\"ticks\":\"\"},\"type\":\"contourcarpet\"}],\"heatmap\":[{\"colorbar\":{\"outlinewidth\":0,\"ticks\":\"\"},\"colorscale\":[[0.0,\"#0d0887\"],[0.1111111111111111,\"#46039f\"],[0.2222222222222222,\"#7201a8\"],[0.3333333333333333,\"#9c179e\"],[0.4444444444444444,\"#bd3786\"],[0.5555555555555556,\"#d8576b\"],[0.6666666666666666,\"#ed7953\"],[0.7777777777777778,\"#fb9f3a\"],[0.8888888888888888,\"#fdca26\"],[1.0,\"#f0f921\"]],\"type\":\"heatmap\"}],\"heatmapgl\":[{\"colorbar\":{\"outlinewidth\":0,\"ticks\":\"\"},\"colorscale\":[[0.0,\"#0d0887\"],[0.1111111111111111,\"#46039f\"],[0.2222222222222222,\"#7201a8\"],[0.3333333333333333,\"#9c179e\"],[0.4444444444444444,\"#bd3786\"],[0.5555555555555556,\"#d8576b\"],[0.6666666666666666,\"#ed7953\"],[0.7777777777777778,\"#fb9f3a\"],[0.8888888888888888,\"#fdca26\"],[1.0,\"#f0f921\"]],\"type\":\"heatmapgl\"}],\"histogram\":[{\"marker\":{\"pattern\":{\"fillmode\":\"overlay\",\"size\":10,\"solidity\":0.2}},\"type\":\"histogram\"}],\"histogram2d\":[{\"colorbar\":{\"outlinewidth\":0,\"ticks\":\"\"},\"colorscale\":[[0.0,\"#0d0887\"],[0.1111111111111111,\"#46039f\"],[0.2222222222222222,\"#7201a8\"],[0.3333333333333333,\"#9c179e\"],[0.4444444444444444,\"#bd3786\"],[0.5555555555555556,\"#d8576b\"],[0.6666666666666666,\"#ed7953\"],[0.7777777777777778,\"#fb9f3a\"],[0.8888888888888888,\"#fdca26\"],[1.0,\"#f0f921\"]],\"type\":\"histogram2d\"}],\"histogram2dcontour\":[{\"colorbar\":{\"outlinewidth\":0,\"ticks\":\"\"},\"colorscale\":[[0.0,\"#0d0887\"],[0.1111111111111111,\"#46039f\"],[0.2222222222222222,\"#7201a8\"],[0.3333333333333333,\"#9c179e\"],[0.4444444444444444,\"#bd3786\"],[0.5555555555555556,\"#d8576b\"],[0.6666666666666666,\"#ed7953\"],[0.7777777777777778,\"#fb9f3a\"],[0.8888888888888888,\"#fdca26\"],[1.0,\"#f0f921\"]],\"type\":\"histogram2dcontour\"}],\"mesh3d\":[{\"colorbar\":{\"outlinewidth\":0,\"ticks\":\"\"},\"type\":\"mesh3d\"}],\"parcoords\":[{\"line\":{\"colorbar\":{\"outlinewidth\":0,\"ticks\":\"\"}},\"type\":\"parcoords\"}],\"pie\":[{\"automargin\":true,\"type\":\"pie\"}],\"scatter\":[{\"marker\":{\"colorbar\":{\"outlinewidth\":0,\"ticks\":\"\"}},\"type\":\"scatter\"}],\"scatter3d\":[{\"line\":{\"colorbar\":{\"outlinewidth\":0,\"ticks\":\"\"}},\"marker\":{\"colorbar\":{\"outlinewidth\":0,\"ticks\":\"\"}},\"type\":\"scatter3d\"}],\"scattercarpet\":[{\"marker\":{\"colorbar\":{\"outlinewidth\":0,\"ticks\":\"\"}},\"type\":\"scattercarpet\"}],\"scattergeo\":[{\"marker\":{\"colorbar\":{\"outlinewidth\":0,\"ticks\":\"\"}},\"type\":\"scattergeo\"}],\"scattergl\":[{\"marker\":{\"colorbar\":{\"outlinewidth\":0,\"ticks\":\"\"}},\"type\":\"scattergl\"}],\"scattermapbox\":[{\"marker\":{\"colorbar\":{\"outlinewidth\":0,\"ticks\":\"\"}},\"type\":\"scattermapbox\"}],\"scatterpolar\":[{\"marker\":{\"colorbar\":{\"outlinewidth\":0,\"ticks\":\"\"}},\"type\":\"scatterpolar\"}],\"scatterpolargl\":[{\"marker\":{\"colorbar\":{\"outlinewidth\":0,\"ticks\":\"\"}},\"type\":\"scatterpolargl\"}],\"scatterternary\":[{\"marker\":{\"colorbar\":{\"outlinewidth\":0,\"ticks\":\"\"}},\"type\":\"scatterternary\"}],\"surface\":[{\"colorbar\":{\"outlinewidth\":0,\"ticks\":\"\"},\"colorscale\":[[0.0,\"#0d0887\"],[0.1111111111111111,\"#46039f\"],[0.2222222222222222,\"#7201a8\"],[0.3333333333333333,\"#9c179e\"],[0.4444444444444444,\"#bd3786\"],[0.5555555555555556,\"#d8576b\"],[0.6666666666666666,\"#ed7953\"],[0.7777777777777778,\"#fb9f3a\"],[0.8888888888888888,\"#fdca26\"],[1.0,\"#f0f921\"]],\"type\":\"surface\"}],\"table\":[{\"cells\":{\"fill\":{\"color\":\"#EBF0F8\"},\"line\":{\"color\":\"white\"}},\"header\":{\"fill\":{\"color\":\"#C8D4E3\"},\"line\":{\"color\":\"white\"}},\"type\":\"table\"}]},\"layout\":{\"annotationdefaults\":{\"arrowcolor\":\"#2a3f5f\",\"arrowhead\":0,\"arrowwidth\":1},\"autotypenumbers\":\"strict\",\"coloraxis\":{\"colorbar\":{\"outlinewidth\":0,\"ticks\":\"\"}},\"colorscale\":{\"diverging\":[[0,\"#8e0152\"],[0.1,\"#c51b7d\"],[0.2,\"#de77ae\"],[0.3,\"#f1b6da\"],[0.4,\"#fde0ef\"],[0.5,\"#f7f7f7\"],[0.6,\"#e6f5d0\"],[0.7,\"#b8e186\"],[0.8,\"#7fbc41\"],[0.9,\"#4d9221\"],[1,\"#276419\"]],\"sequential\":[[0.0,\"#0d0887\"],[0.1111111111111111,\"#46039f\"],[0.2222222222222222,\"#7201a8\"],[0.3333333333333333,\"#9c179e\"],[0.4444444444444444,\"#bd3786\"],[0.5555555555555556,\"#d8576b\"],[0.6666666666666666,\"#ed7953\"],[0.7777777777777778,\"#fb9f3a\"],[0.8888888888888888,\"#fdca26\"],[1.0,\"#f0f921\"]],\"sequentialminus\":[[0.0,\"#0d0887\"],[0.1111111111111111,\"#46039f\"],[0.2222222222222222,\"#7201a8\"],[0.3333333333333333,\"#9c179e\"],[0.4444444444444444,\"#bd3786\"],[0.5555555555555556,\"#d8576b\"],[0.6666666666666666,\"#ed7953\"],[0.7777777777777778,\"#fb9f3a\"],[0.8888888888888888,\"#fdca26\"],[1.0,\"#f0f921\"]]},\"colorway\":[\"#636efa\",\"#EF553B\",\"#00cc96\",\"#ab63fa\",\"#FFA15A\",\"#19d3f3\",\"#FF6692\",\"#B6E880\",\"#FF97FF\",\"#FECB52\"],\"font\":{\"color\":\"#2a3f5f\"},\"geo\":{\"bgcolor\":\"white\",\"lakecolor\":\"white\",\"landcolor\":\"#E5ECF6\",\"showlakes\":true,\"showland\":true,\"subunitcolor\":\"white\"},\"hoverlabel\":{\"align\":\"left\"},\"hovermode\":\"closest\",\"mapbox\":{\"style\":\"light\"},\"paper_bgcolor\":\"white\",\"plot_bgcolor\":\"#E5ECF6\",\"polar\":{\"angularaxis\":{\"gridcolor\":\"white\",\"linecolor\":\"white\",\"ticks\":\"\"},\"bgcolor\":\"#E5ECF6\",\"radialaxis\":{\"gridcolor\":\"white\",\"linecolor\":\"white\",\"ticks\":\"\"}},\"scene\":{\"xaxis\":{\"backgroundcolor\":\"#E5ECF6\",\"gridcolor\":\"white\",\"gridwidth\":2,\"linecolor\":\"white\",\"showbackground\":true,\"ticks\":\"\",\"zerolinecolor\":\"white\"},\"yaxis\":{\"backgroundcolor\":\"#E5ECF6\",\"gridcolor\":\"white\",\"gridwidth\":2,\"linecolor\":\"white\",\"showbackground\":true,\"ticks\":\"\",\"zerolinecolor\":\"white\"},\"zaxis\":{\"backgroundcolor\":\"#E5ECF6\",\"gridcolor\":\"white\",\"gridwidth\":2,\"linecolor\":\"white\",\"showbackground\":true,\"ticks\":\"\",\"zerolinecolor\":\"white\"}},\"shapedefaults\":{\"line\":{\"color\":\"#2a3f5f\"}},\"ternary\":{\"aaxis\":{\"gridcolor\":\"white\",\"linecolor\":\"white\",\"ticks\":\"\"},\"baxis\":{\"gridcolor\":\"white\",\"linecolor\":\"white\",\"ticks\":\"\"},\"bgcolor\":\"#E5ECF6\",\"caxis\":{\"gridcolor\":\"white\",\"linecolor\":\"white\",\"ticks\":\"\"}},\"title\":{\"x\":0.05},\"xaxis\":{\"automargin\":true,\"gridcolor\":\"white\",\"linecolor\":\"white\",\"ticks\":\"\",\"title\":{\"standoff\":15},\"zerolinecolor\":\"white\",\"zerolinewidth\":2},\"yaxis\":{\"automargin\":true,\"gridcolor\":\"white\",\"linecolor\":\"white\",\"ticks\":\"\",\"title\":{\"standoff\":15},\"zerolinecolor\":\"white\",\"zerolinewidth\":2}}},\"font\":{\"size\":18},\"title\":{\"text\":\"<b>Keira Walsh Euro 2022: Pass Direction<b>\"},\"annotations\":[{\"align\":\"left\",\"font\":{\"color\":\"grey\",\"size\":12},\"showarrow\":false,\"text\":\"Data Source: <a href='https://statsbomb.com/what-we-do/hub/free-data/'>Statsbomb Open Data</a>\",\"x\":0,\"xanchor\":\"left\",\"xref\":\"paper\",\"xshift\":-1,\"y\":-0.15,\"yanchor\":\"bottom\",\"yref\":\"paper\",\"yshift\":-5},{\"align\":\"left\",\"font\":{\"color\":\"grey\",\"size\":12},\"showarrow\":false,\"text\":\"Created by <a href='https://medium.com/@stuckintherondo'>@stuckintherondo</a>\",\"x\":0,\"xanchor\":\"left\",\"xref\":\"paper\",\"xshift\":-1,\"y\":-0.1,\"yanchor\":\"bottom\",\"yref\":\"paper\",\"yshift\":-5}],\"showlegend\":false,\"polar\":{\"angularaxis\":{\"tickfont\":{\"size\":12},\"direction\":\"clockwise\"},\"radialaxis\":{\"tickfont\":{\"size\":12}}}},                        {\"responsive\": true}                    ).then(function(){\n",
       "                            \n",
       "var gd = document.getElementById('09ca7f22-3b08-4e65-999c-2eccae73c64a');\n",
       "var x = new MutationObserver(function (mutations, observer) {{\n",
       "        var display = window.getComputedStyle(gd).display;\n",
       "        if (!display || display === 'none') {{\n",
       "            console.log([gd, 'removed!']);\n",
       "            Plotly.purge(gd);\n",
       "            observer.disconnect();\n",
       "        }}\n",
       "}});\n",
       "\n",
       "// Listen for the removal of the full notebook cells\n",
       "var notebookContainer = gd.closest('#notebook-container');\n",
       "if (notebookContainer) {{\n",
       "    x.observe(notebookContainer, {childList: true});\n",
       "}}\n",
       "\n",
       "// Listen for the clearing of the current output cell\n",
       "var outputEl = gd.closest('.output');\n",
       "if (outputEl) {{\n",
       "    x.observe(outputEl, {childList: true});\n",
       "}}\n",
       "\n",
       "                        })                };                });            </script>        </div>"
      ]
     },
     "metadata": {},
     "output_type": "display_data"
    }
   ],
   "source": [
    "pd.options.mode.chained_assignment = None\n",
    "\n",
    "kw_result = get_angle_counts(kw_passes_df)\n",
    "kw_angles = kw_result[\"angle_bucket\"]\n",
    "kw_count = kw_result[\"Count\"]\n",
    "\n",
    "markercolor = [\"#0C418C\", \"#0C418C\", \"#0C418C\", \"#F0D339\", \"#F0D339\", \"#F0D339\", \"#56A18F\", \"#56A18F\", \"#56A18F\", \"#DC3912\", \"#DC3912\", \"#DC3912\"]\n",
    "hover_data = [\"0-30\", \"30-60\", \"60-90\", \"90-120\", \"120-150\", \"150-180\", \"180-210\", \"210-240\", \"240-270\", \"270-300\", \"300-330\", \"330-360\"]\n",
    "\n",
    "fig = go.Figure(data=\n",
    "    go.Barpolar(\n",
    "        r = kw_count,\n",
    "        theta = kw_angles,\n",
    "        width=30, \n",
    "        marker_color=markercolor, \n",
    "        hovertext=hover_data\n",
    "    ))\n",
    "\n",
    "fig.update_layout(\n",
    "    title=\"<b>Keira Walsh Euro 2022: Pass Direction<b>\",\n",
    "    font=dict(\n",
    "        size=18\n",
    "    )\n",
    "    )\n",
    "\n",
    "#https://medium.com/nerd-for-tech/enriching-data-visualizations-with-annotations-in-plotly-using-python-6127ff6e0f80\n",
    "fig.add_annotation(\n",
    "    showarrow=False,\n",
    "    text=\"Data Source: <a href='https://statsbomb.com/what-we-do/hub/free-data/'>Statsbomb Open Data</a>\",\n",
    "    x = 0\n",
    "    , y = -0.15\n",
    "    , xref='paper'\n",
    "    , yref='paper' \n",
    "    , xanchor='left'\n",
    "    , yanchor='bottom'\n",
    "    , xshift=-1\n",
    "    , yshift=-5\n",
    "    , font=dict(size=12, color=\"grey\")\n",
    "    , align=\"left\"\n",
    "    )\n",
    "\n",
    "fig.add_annotation(\n",
    "    showarrow=False,\n",
    "    text=\"Created by <a href='https://medium.com/@stuckintherondo'>@stuckintherondo</a>\",\n",
    "    x = 0\n",
    "    , y = -0.10\n",
    "    , xref='paper'\n",
    "    , yref='paper' \n",
    "    , xanchor='left'\n",
    "    , yanchor='bottom'\n",
    "    , xshift=-1\n",
    "    , yshift=-5\n",
    "    , font=dict(size=12, color=\"grey\")\n",
    "    , align=\"left\"\n",
    "    )\n",
    "\n",
    "fig.update_layout(showlegend=False)\n",
    "#fig.update_polars(angularaxis_showticklabels=False)\n",
    "#fig.update_polars(radialaxis_showticklabels=False)\n",
    "fig.update_polars(angularaxis_tickfont_size=12)\n",
    "fig.update_polars(radialaxis_tickfont_size=12)\n",
    "fig.update_polars(angularaxis_direction=\"clockwise\")\n",
    "fig.show()\n",
    "#py.plot(fig, filename=\"inv_cole_direction\", auto_open = True)"
   ]
  },
  {
   "cell_type": "code",
   "execution_count": 23,
   "id": "0f8cf744",
   "metadata": {},
   "outputs": [
    {
     "name": "stdout",
     "output_type": "stream",
     "text": [
      "          pass_recipient  Count\n",
      "0        Leah Williamson     64\n",
      "1            Lucy Bronze     41\n",
      "2          Millie Bright     37\n",
      "3        Georgia Stanway     28\n",
      "4            Lauren Hemp     27\n",
      "5            Rachel Daly     27\n",
      "6             Ella Toone     19\n",
      "7        Francesca Kirby     19\n",
      "8           Bethany Mead     18\n",
      "9         Alex Greenwood     12\n",
      "10           Chloe Kelly      9\n",
      "11           Ellen White      7\n",
      "12         Alessia Russo      4\n",
      "13  Mary Alexandra Earps      3\n",
      "14            Jill Scott      1\n"
     ]
    }
   ],
   "source": [
    "kw_count_passes_df = kw_passes_df[['pass_recipient']]\n",
    "kw_count_passes_df = kw_count_passes_df.value_counts().to_frame('Count').reset_index()\n",
    "print(kw_count_passes_df)"
   ]
  },
  {
   "cell_type": "code",
   "execution_count": 27,
   "id": "47eb048e",
   "metadata": {},
   "outputs": [
    {
     "name": "stdout",
     "output_type": "stream",
     "text": [
      "   pass_switch  Count\n",
      "0         True     11\n"
     ]
    }
   ],
   "source": [
    "kw_count_passes_df = kw_passes_df[['pass_switch']]\n",
    "kw_count_passes_df = kw_count_passes_df.value_counts().to_frame('Count').reset_index()\n",
    "print(kw_count_passes_df)"
   ]
  },
  {
   "cell_type": "code",
   "execution_count": 35,
   "id": "0183fa90",
   "metadata": {},
   "outputs": [
    {
     "name": "stdout",
     "output_type": "stream",
     "text": [
      "  pass_body_part  Count\n",
      "0     Right Foot    269\n",
      "1      Left Foot     39\n",
      "2           Head      3\n"
     ]
    }
   ],
   "source": [
    "kw_count_passes_df = kw_passes_df[['pass_body_part']]\n",
    "kw_count_passes_df = kw_count_passes_df.value_counts().to_frame('Count').reset_index()\n",
    "print(kw_count_passes_df)"
   ]
  },
  {
   "cell_type": "code",
   "execution_count": 94,
   "id": "7a71fad6",
   "metadata": {},
   "outputs": [
    {
     "data": {
      "image/png": "[encoded data removed]",
      "text/plain": [
       "<Figure size 756x540 with 1 Axes>"
      ]
     },
     "metadata": {
      "needs_background": "light"
     },
     "output_type": "display_data"
    }
   ],
   "source": [
    "kw_switches_df = kw_passes_df[(kw_passes_df.pass_switch == True)]\n",
    "\n",
    "fig, ax = plt.subplots()\n",
    "fig.set_size_inches(10.5, 7.5)\n",
    "plt.ylim(-2, 82)\n",
    "plt.xlim(-2, 122)\n",
    "draw_pitch(ax)\n",
    "plt.gca().invert_yaxis()\n",
    "plt.axis('off')\n",
    "ax.patch.set_facecolor('black')\n",
    "for i in range(len(kw_switches_df)):\n",
    "        #color = \"gold\" if modric_se_df.iloc[i][\"possession\"] in goal_ending_list else \"silver\"\n",
    "        \n",
    "    ax.annotate(\"\", xy = (kw_switches_df.iloc[i]['x_end'], kw_switches_df.iloc[i]['y_end']), xycoords = 'data', \n",
    "                xytext = (kw_switches_df.iloc[i]['x'], kw_switches_df.iloc[i]['y']), textcoords = 'data',\n",
    "            arrowprops=dict(arrowstyle=\"-|>\",connectionstyle=\"arc3\",color = \"#FF10F0\", lw=2),)\n",
    "plt.show()"
   ]
  },
  {
   "cell_type": "code",
   "execution_count": 98,
   "id": "ae373614",
   "metadata": {},
   "outputs": [
    {
     "data": {
      "image/png": "[encoded data removed]",
      "text/plain": [
       "<Figure size 756x540 with 1 Axes>"
      ]
     },
     "metadata": {
      "needs_background": "light"
     },
     "output_type": "display_data"
    }
   ],
   "source": [
    "kw_lb_df = kw_passes_df[(kw_passes_df.pass_recipient == \"Lucy Bronze\")]\n",
    "\n",
    "fig, ax = plt.subplots()\n",
    "fig.set_size_inches(10.5, 7.5)\n",
    "plt.ylim(-2, 82)\n",
    "plt.xlim(-2, 122)\n",
    "draw_pitch(ax)\n",
    "plt.gca().invert_yaxis()\n",
    "plt.axis('off')\n",
    "ax.patch.set_facecolor('black')\n",
    "for i in range(len(kw_passes_df)):\n",
    "        #color = \"gold\" if modric_se_df.iloc[i][\"possession\"] in goal_ending_list else \"silver\"\n",
    "        \n",
    "    ax.annotate(\"\", xy = (kw_passes_df.iloc[i]['x_end'], kw_passes_df.iloc[i]['y_end']), xycoords = 'data', \n",
    "                xytext = (kw_passes_df.iloc[i]['x'], kw_passes_df.iloc[i]['y']), textcoords = 'data',\n",
    "            arrowprops=dict(arrowstyle=\"-|>\",connectionstyle=\"arc3\",color = \"#FF10F0\", lw=2),)\n",
    "plt.show()"
   ]
  },
  {
   "cell_type": "code",
   "execution_count": 95,
   "id": "ecadb5a6",
   "metadata": {},
   "outputs": [
    {
     "name": "stdout",
     "output_type": "stream",
     "text": [
      "  pass_recipient  Count\n",
      "0    Lucy Bronze      9\n",
      "1    Lauren Hemp      1\n",
      "2  Millie Bright      1\n"
     ]
    }
   ],
   "source": [
    "kw_count_switches_df = kw_switches_df[['pass_recipient']]\n",
    "kw_count_switches_df = kw_count_switches_df.value_counts().to_frame('Count').reset_index()\n",
    "print(kw_count_switches_df)"
   ]
  },
  {
   "cell_type": "code",
   "execution_count": 100,
   "id": "2e59eb55",
   "metadata": {},
   "outputs": [
    {
     "name": "stdout",
     "output_type": "stream",
     "text": [
      "14     3\n",
      "30     1\n",
      "48     2\n",
      "66     2\n",
      "98     3\n",
      "      ..\n",
      "920    2\n",
      "923    2\n",
      "938    3\n",
      "941    3\n",
      "944    3\n",
      "Name: row_bucket, Length: 316, dtype: string\n"
     ]
    }
   ],
   "source": [
    "bins = [-np.inf, 24, 48, 72, 96, 120]\n",
    "labels=[1, 2, 3, 4, 5]\n",
    "kw_passes_df[\"row_bucket\"] = pd.cut(kw_passes_df['x'], bins=bins, labels=labels)\n",
    "kw_passes_df['row_bucket'] = kw_passes_df['row_bucket'].astype(\"string\")\n",
    "print(kw_passes_df['row_bucket'])"
   ]
  },
  {
   "cell_type": "code",
   "execution_count": 106,
   "id": "77a29635",
   "metadata": {},
   "outputs": [
    {
     "data": {
      "image/png": "[encoded data removed]",
      "text/plain": [
       "<Figure size 756x540 with 1 Axes>"
      ]
     },
     "metadata": {
      "needs_background": "light"
     },
     "output_type": "display_data"
    }
   ],
   "source": [
    "shot_ending = events_df[(events_df.type == \"Shot\") & (events_df.team == \"England Women's\")]\n",
    "goal_ending = events_df[(events_df.type == \"Shot\") & (events_df.team == \"England Women's\") & (events_df.shot_outcome == \"Goal\")]\n",
    "shot_ending_list = shot_ending[\"possession\"].tolist()\n",
    "goal_ending_ids = goal_ending[\"shot_key_pass_id\"].tolist()\n",
    "goal_ending_list = goal_ending[\"possession\"].tolist()\n",
    "\n",
    "kw_assists_df = kw_passes_df[kw_passes_df['id'].isin(goal_ending_ids)]\n",
    "\n",
    "fig, ax = plt.subplots()\n",
    "fig.set_size_inches(10.5, 7.5)\n",
    "plt.ylim(-2, 82)\n",
    "plt.xlim(-2, 122)\n",
    "draw_pitch(ax)\n",
    "plt.gca().invert_yaxis()\n",
    "plt.axis('off')\n",
    "ax.patch.set_facecolor('black')\n",
    "for i in range(len(kw_assists_df)):\n",
    "        #color = \"gold\" if modric_se_df.iloc[i][\"possession\"] in goal_ending_list else \"silver\"\n",
    "        \n",
    "    ax.annotate(\"\", xy = (kw_assists_df.iloc[i]['x_end'], kw_assists_df.iloc[i]['y_end']), xycoords = 'data', \n",
    "                xytext = (kw_assists_df.iloc[i]['x'], kw_assists_df.iloc[i]['y']), textcoords = 'data',\n",
    "            arrowprops=dict(arrowstyle=\"-|>\",connectionstyle=\"arc3\",color = \"#FF10F0\", lw=2),)\n",
    "plt.show()"
   ]
  },
  {
   "cell_type": "code",
   "execution_count": null,
   "id": "3c13fa8f",
   "metadata": {},
   "outputs": [],
   "source": []
  }
 ],
 "metadata": {
  "kernelspec": {
   "display_name": "Python 3",
   "language": "python",
   "name": "python3"
  },
  "language_info": {
   "codemirror_mode": {
    "name": "ipython",
    "version": 3
   },
   "file_extension": ".py",
   "mimetype": "text/x-python",
   "name": "python",
   "nbconvert_exporter": "python",
   "pygments_lexer": "ipython3",
   "version": "3.8.8"
  }
 },
 "nbformat": 4,
 "nbformat_minor": 5
}
